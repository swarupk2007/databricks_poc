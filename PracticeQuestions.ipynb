{
 "cells": [
  {
   "cell_type": "code",
   "execution_count": 0,
   "metadata": {
    "application/vnd.databricks.v1+cell": {
     "cellMetadata": {
      "byteLimit": 2048000,
      "rowLimit": 10000
     },
     "inputWidgets": {},
     "nuid": "78a114fc-c62c-457c-b136-b15060e26dce",
     "showTitle": false,
     "tableResultSettingsMap": {},
     "title": ""
    }
   },
   "outputs": [
    {
     "output_type": "display_data",
     "data": {
      "text/html": [
       "<style scoped>\n",
       "  .table-result-container {\n",
       "    max-height: 300px;\n",
       "    overflow: auto;\n",
       "  }\n",
       "  table, th, td {\n",
       "    border: 1px solid black;\n",
       "    border-collapse: collapse;\n",
       "  }\n",
       "  th, td {\n",
       "    padding: 5px;\n",
       "  }\n",
       "  th {\n",
       "    text-align: left;\n",
       "  }\n",
       "</style><div class='table-result-container'><table class='table-result'><thead style='background-color: white'><tr><th>order_date</th><th>customer_id</th><th>amount</th></tr></thead><tbody><tr><td>2025-02-10</td><td>1</td><td>100</td></tr><tr><td>2025-02-11</td><td>2</td><td>200</td></tr><tr><td>2025-02-11</td><td>4</td><td>150</td></tr><tr><td>2025-02-12</td><td>3</td><td>300</td></tr><tr><td>2025-02-13</td><td>1</td><td>400</td></tr><tr><td>2025-02-13</td><td>1</td><td>180</td></tr><tr><td>2025-02-14</td><td>2</td><td>500</td></tr><tr><td>2025-02-15</td><td>3</td><td>250</td></tr><tr><td>2025-02-16</td><td>4</td><td>50</td></tr><tr><td>2025-02-16</td><td>1</td><td>210</td></tr></tbody></table></div>"
      ]
     },
     "metadata": {
      "application/vnd.databricks.v1+output": {
       "addedWidgets": {},
       "aggData": [],
       "aggError": "",
       "aggOverflow": false,
       "aggSchema": [],
       "aggSeriesLimitReached": false,
       "aggType": "",
       "arguments": {},
       "columnCustomDisplayInfos": {},
       "data": [
        [
         "2025-02-10",
         1,
         100
        ],
        [
         "2025-02-11",
         2,
         200
        ],
        [
         "2025-02-11",
         4,
         150
        ],
        [
         "2025-02-12",
         3,
         300
        ],
        [
         "2025-02-13",
         1,
         400
        ],
        [
         "2025-02-13",
         1,
         180
        ],
        [
         "2025-02-14",
         2,
         500
        ],
        [
         "2025-02-15",
         3,
         250
        ],
        [
         "2025-02-16",
         4,
         50
        ],
        [
         "2025-02-16",
         1,
         210
        ]
       ],
       "datasetInfos": [],
       "dbfsResultPath": null,
       "isJsonSchema": true,
       "metadata": {},
       "overflow": false,
       "plotOptions": {
        "customPlotOptions": {},
        "displayType": "table",
        "pivotAggregation": null,
        "pivotColumns": null,
        "xColumns": null,
        "yColumns": null
       },
       "removedWidgets": [],
       "schema": [
        {
         "metadata": "{}",
         "name": "order_date",
         "type": "\"string\""
        },
        {
         "metadata": "{}",
         "name": "customer_id",
         "type": "\"integer\""
        },
        {
         "metadata": "{}",
         "name": "amount",
         "type": "\"integer\""
        }
       ],
       "type": "table"
      }
     },
     "output_type": "display_data"
    },
    {
     "output_type": "display_data",
     "data": {
      "text/html": [
       "<style scoped>\n",
       "  .table-result-container {\n",
       "    max-height: 300px;\n",
       "    overflow: auto;\n",
       "  }\n",
       "  table, th, td {\n",
       "    border: 1px solid black;\n",
       "    border-collapse: collapse;\n",
       "  }\n",
       "  th, td {\n",
       "    padding: 5px;\n",
       "  }\n",
       "  th {\n",
       "    text-align: left;\n",
       "  }\n",
       "</style><div class='table-result-container'><table class='table-result'><thead style='background-color: white'><tr><th>order_date</th><th>customer_id</th><th>amount</th><th>day_of_week</th></tr></thead><tbody><tr><td>2025-02-10</td><td>1</td><td>100</td><td>Mon</td></tr><tr><td>2025-02-11</td><td>2</td><td>200</td><td>Tue</td></tr><tr><td>2025-02-11</td><td>4</td><td>150</td><td>Tue</td></tr><tr><td>2025-02-12</td><td>3</td><td>300</td><td>Wed</td></tr><tr><td>2025-02-13</td><td>1</td><td>400</td><td>Thu</td></tr><tr><td>2025-02-13</td><td>1</td><td>180</td><td>Thu</td></tr><tr><td>2025-02-14</td><td>2</td><td>500</td><td>Fri</td></tr><tr><td>2025-02-15</td><td>3</td><td>250</td><td>Sat</td></tr><tr><td>2025-02-16</td><td>4</td><td>50</td><td>Sun</td></tr><tr><td>2025-02-16</td><td>1</td><td>210</td><td>Sun</td></tr></tbody></table></div>"
      ]
     },
     "metadata": {
      "application/vnd.databricks.v1+output": {
       "addedWidgets": {},
       "aggData": [],
       "aggError": "",
       "aggOverflow": false,
       "aggSchema": [],
       "aggSeriesLimitReached": false,
       "aggType": "",
       "arguments": {},
       "columnCustomDisplayInfos": {},
       "data": [
        [
         "2025-02-10",
         1,
         100,
         "Mon"
        ],
        [
         "2025-02-11",
         2,
         200,
         "Tue"
        ],
        [
         "2025-02-11",
         4,
         150,
         "Tue"
        ],
        [
         "2025-02-12",
         3,
         300,
         "Wed"
        ],
        [
         "2025-02-13",
         1,
         400,
         "Thu"
        ],
        [
         "2025-02-13",
         1,
         180,
         "Thu"
        ],
        [
         "2025-02-14",
         2,
         500,
         "Fri"
        ],
        [
         "2025-02-15",
         3,
         250,
         "Sat"
        ],
        [
         "2025-02-16",
         4,
         50,
         "Sun"
        ],
        [
         "2025-02-16",
         1,
         210,
         "Sun"
        ]
       ],
       "datasetInfos": [],
       "dbfsResultPath": null,
       "isJsonSchema": true,
       "metadata": {},
       "overflow": false,
       "plotOptions": {
        "customPlotOptions": {},
        "displayType": "table",
        "pivotAggregation": null,
        "pivotColumns": null,
        "xColumns": null,
        "yColumns": null
       },
       "removedWidgets": [],
       "schema": [
        {
         "metadata": "{}",
         "name": "order_date",
         "type": "\"string\""
        },
        {
         "metadata": "{}",
         "name": "customer_id",
         "type": "\"integer\""
        },
        {
         "metadata": "{}",
         "name": "amount",
         "type": "\"integer\""
        },
        {
         "metadata": "{}",
         "name": "day_of_week",
         "type": "\"string\""
        }
       ],
       "type": "table"
      }
     },
     "output_type": "display_data"
    },
    {
     "output_type": "display_data",
     "data": {
      "text/html": [
       "<style scoped>\n",
       "  .table-result-container {\n",
       "    max-height: 300px;\n",
       "    overflow: auto;\n",
       "  }\n",
       "  table, th, td {\n",
       "    border: 1px solid black;\n",
       "    border-collapse: collapse;\n",
       "  }\n",
       "  th, td {\n",
       "    padding: 5px;\n",
       "  }\n",
       "  th {\n",
       "    text-align: left;\n",
       "  }\n",
       "</style><div class='table-result-container'><table class='table-result'><thead style='background-color: white'><tr><th>order_date</th><th>customer_id</th><th>amount</th><th>day_of_week</th><th>days</th></tr></thead><tbody><tr><td>2025-02-10</td><td>1</td><td>100</td><td>Mon</td><td>Weekday</td></tr><tr><td>2025-02-11</td><td>2</td><td>200</td><td>Tue</td><td>Weekday</td></tr><tr><td>2025-02-11</td><td>4</td><td>150</td><td>Tue</td><td>Weekday</td></tr><tr><td>2025-02-12</td><td>3</td><td>300</td><td>Wed</td><td>Weekday</td></tr><tr><td>2025-02-13</td><td>1</td><td>400</td><td>Thu</td><td>Weekday</td></tr><tr><td>2025-02-13</td><td>1</td><td>180</td><td>Thu</td><td>Weekday</td></tr><tr><td>2025-02-14</td><td>2</td><td>500</td><td>Fri</td><td>Weekday</td></tr><tr><td>2025-02-15</td><td>3</td><td>250</td><td>Sat</td><td>Weekend</td></tr><tr><td>2025-02-16</td><td>4</td><td>50</td><td>Sun</td><td>Weekend</td></tr><tr><td>2025-02-16</td><td>1</td><td>210</td><td>Sun</td><td>Weekend</td></tr></tbody></table></div>"
      ]
     },
     "metadata": {
      "application/vnd.databricks.v1+output": {
       "addedWidgets": {},
       "aggData": [],
       "aggError": "",
       "aggOverflow": false,
       "aggSchema": [],
       "aggSeriesLimitReached": false,
       "aggType": "",
       "arguments": {},
       "columnCustomDisplayInfos": {},
       "data": [
        [
         "2025-02-10",
         1,
         100,
         "Mon",
         "Weekday"
        ],
        [
         "2025-02-11",
         2,
         200,
         "Tue",
         "Weekday"
        ],
        [
         "2025-02-11",
         4,
         150,
         "Tue",
         "Weekday"
        ],
        [
         "2025-02-12",
         3,
         300,
         "Wed",
         "Weekday"
        ],
        [
         "2025-02-13",
         1,
         400,
         "Thu",
         "Weekday"
        ],
        [
         "2025-02-13",
         1,
         180,
         "Thu",
         "Weekday"
        ],
        [
         "2025-02-14",
         2,
         500,
         "Fri",
         "Weekday"
        ],
        [
         "2025-02-15",
         3,
         250,
         "Sat",
         "Weekend"
        ],
        [
         "2025-02-16",
         4,
         50,
         "Sun",
         "Weekend"
        ],
        [
         "2025-02-16",
         1,
         210,
         "Sun",
         "Weekend"
        ]
       ],
       "datasetInfos": [],
       "dbfsResultPath": null,
       "isJsonSchema": true,
       "metadata": {},
       "overflow": false,
       "plotOptions": {
        "customPlotOptions": {},
        "displayType": "table",
        "pivotAggregation": null,
        "pivotColumns": null,
        "xColumns": null,
        "yColumns": null
       },
       "removedWidgets": [],
       "schema": [
        {
         "metadata": "{}",
         "name": "order_date",
         "type": "\"string\""
        },
        {
         "metadata": "{}",
         "name": "customer_id",
         "type": "\"integer\""
        },
        {
         "metadata": "{}",
         "name": "amount",
         "type": "\"integer\""
        },
        {
         "metadata": "{}",
         "name": "day_of_week",
         "type": "\"string\""
        },
        {
         "metadata": "{}",
         "name": "days",
         "type": "\"string\""
        }
       ],
       "type": "table"
      }
     },
     "output_type": "display_data"
    },
    {
     "output_type": "display_data",
     "data": {
      "text/html": [
       "<style scoped>\n",
       "  .table-result-container {\n",
       "    max-height: 300px;\n",
       "    overflow: auto;\n",
       "  }\n",
       "  table, th, td {\n",
       "    border: 1px solid black;\n",
       "    border-collapse: collapse;\n",
       "  }\n",
       "  th, td {\n",
       "    padding: 5px;\n",
       "  }\n",
       "  th {\n",
       "    text-align: left;\n",
       "  }\n",
       "</style><div class='table-result-container'><table class='table-result'><thead style='background-color: white'><tr><th>days</th><th>average</th></tr></thead><tbody><tr><td>Weekday</td><td>261.4286</td></tr><tr><td>Weekend</td><td>170.0</td></tr></tbody></table></div>"
      ]
     },
     "metadata": {
      "application/vnd.databricks.v1+output": {
       "addedWidgets": {},
       "aggData": [],
       "aggError": "",
       "aggOverflow": false,
       "aggSchema": [],
       "aggSeriesLimitReached": false,
       "aggType": "",
       "arguments": {},
       "columnCustomDisplayInfos": {},
       "data": [
        [
         "Weekday",
         261.4286
        ],
        [
         "Weekend",
         170.0
        ]
       ],
       "datasetInfos": [],
       "dbfsResultPath": null,
       "isJsonSchema": true,
       "metadata": {},
       "overflow": false,
       "plotOptions": {
        "customPlotOptions": {},
        "displayType": "table",
        "pivotAggregation": null,
        "pivotColumns": null,
        "xColumns": null,
        "yColumns": null
       },
       "removedWidgets": [],
       "schema": [
        {
         "metadata": "{}",
         "name": "days",
         "type": "\"string\""
        },
        {
         "metadata": "{}",
         "name": "average",
         "type": "\"double\""
        }
       ],
       "type": "table"
      }
     },
     "output_type": "display_data"
    }
   ],
   "source": [
    "# You are given an orders dataset containing order information.\n",
    "\n",
    "#  (order_date, customer_id,amount) \n",
    "#  (\"2025-02-10\", 1, 100),\n",
    "#  (\"2025-02-11\", 2, 200),\n",
    "#  (\"2025-02-11\", 4, 150),\n",
    "#  (\"2025-02-12\", 3, 300),\n",
    "#  (\"2025-02-13\", 1, 400),\n",
    "#  (\"2025-02-13\", 1, 180),\n",
    "#  (\"2025-02-14\", 2, 500),\n",
    "#  (\"2025-02-15\", 3, 250),\n",
    "#  (\"2025-02-16\", 4, 50),\n",
    "#  (\"2025-02-16\", 1, 210)\n",
    "\n",
    "# 𝗣𝗿𝗼𝗯𝗹𝗲𝗺 𝗦𝘁𝗮𝘁𝗲𝗺𝗲𝗻𝘁: Calculate average order value for both weekdays and weekends.\n",
    "# 𝗡𝗼𝘁𝗲: dayofweek you can not use.\n",
    "\n",
    "from pyspark.sql.types import StructType, StructField, StringType, IntegerType\n",
    "from pyspark.sql.functions import *\n",
    "\n",
    "schema = StructType([\n",
    "    StructField(\"order_date\", StringType(), True),\n",
    "    StructField(\"customer_id\", IntegerType(), True),\n",
    "    StructField(\"amount\", IntegerType(), True)\n",
    "])\n",
    "\n",
    "data = [\n",
    " (\"2025-02-10\", 1, 100),\n",
    " (\"2025-02-11\", 2, 200),\n",
    " (\"2025-02-11\", 4, 150),\n",
    " (\"2025-02-12\", 3, 300),\n",
    " (\"2025-02-13\", 1, 400),\n",
    " (\"2025-02-13\", 1, 180),\n",
    " (\"2025-02-14\", 2, 500),\n",
    " (\"2025-02-15\", 3, 250),\n",
    " (\"2025-02-16\", 4, 50),\n",
    " (\"2025-02-16\", 1, 210)]\n",
    "\n",
    "df = spark.createDataFrame(data,schema)\n",
    "display(df)\n",
    "df_dow = df.withColumn(\"day_of_week\", \n",
    "                    date_format(col(\"order_date\").cast(\"date\"),\"E\"))\n",
    "display(df_dow)\n",
    "\n",
    "df_weekday = df_dow.withColumn(\"days\", when(col(\"day_of_week\").isin(\"Sat\", \"Sun\"), \"Weekend\").otherwise(\"Weekday\"))\n",
    "display(df_weekday)\n",
    "df_avg_amnt = df_weekday.groupBy(\"days\").agg(round(avg(\"amount\"), 4).alias(\"average\"))\n",
    "display(df_avg_amnt)"
   ]
  }
 ],
 "metadata": {
  "application/vnd.databricks.v1+notebook": {
   "computePreferences": null,
   "dashboards": [],
   "environmentMetadata": {
    "base_environment": "",
    "environment_version": "1"
   },
   "inputWidgetPreferences": null,
   "language": "python",
   "notebookMetadata": {
    "pythonIndentUnit": 4
   },
   "notebookName": "PracticeQuestions",
   "widgets": {}
  }
 },
 "nbformat": 4,
 "nbformat_minor": 0
}